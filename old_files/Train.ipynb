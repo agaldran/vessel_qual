{
 "cells": [
  {
   "cell_type": "code",
   "execution_count": null,
   "metadata": {},
   "outputs": [],
   "source": [
    "from data import get_vessel_iterator\n",
    "import matplotlib.pyplot as plt\n",
    "\n",
    "from keras.callbacks import ModelCheckpoint\n",
    "from model import mi_model\n",
    "\n",
    "%matplotlib inline\n",
    "%load_ext autoreload\n",
    "%autoreload 2"
   ]
  },
  {
   "cell_type": "code",
   "execution_count": null,
   "metadata": {},
   "outputs": [],
   "source": [
    "vess_it = get_vessel_iterator('train_1st_manual', patch_size=(64, 64), batch_size=8, n_patches=100,\n",
    "                              horizontal_flip=True, rotation_range=10, width_shift_range=0.1, height_shift_range=0.1)\n",
    "vess_it_test = get_vessel_iterator('test_1st_manual', patch_size=(64, 64), batch_size=8, n_patches=100)"
   ]
  },
  {
   "cell_type": "code",
   "execution_count": null,
   "metadata": {
    "collapsed": true
   },
   "outputs": [],
   "source": [
    "callbacks = [ModelCheckpoint('weights_2.hdf5', monitor='val_loss', verbose=1, save_best_only=True)]\n",
    "m = mi_model((512, 512))"
   ]
  },
  {
   "cell_type": "code",
   "execution_count": null,
   "metadata": {},
   "outputs": [],
   "source": [
    "m.fit_generator(vess_it, 100, validation_data=vess_it_test, validation_steps=3*10, epochs=4000, verbose=2, workers=8, callbacks=callbacks)"
   ]
  },
  {
   "cell_type": "code",
   "execution_count": null,
   "metadata": {
    "scrolled": true
   },
   "outputs": [],
   "source": [
    "x, y = next(vess_it_test)\n",
    "y_pred = m.predict(x)\n",
    "for i, xi in enumerate(x):\n",
    "    print(y[i], y_pred[i])\n",
    "    plt.imshow(xi[:, :, 0], cmap='gray')\n",
    "    plt.show()"
   ]
  }
 ],
 "metadata": {
  "kernelspec": {
   "display_name": "Python 3",
   "language": "python",
   "name": "python3"
  },
  "language_info": {
   "codemirror_mode": {
    "name": "ipython",
    "version": 3
   },
   "file_extension": ".py",
   "mimetype": "text/x-python",
   "name": "python",
   "nbconvert_exporter": "python",
   "pygments_lexer": "ipython3",
   "version": "3.6.1"
  }
 },
 "nbformat": 4,
 "nbformat_minor": 2
}
