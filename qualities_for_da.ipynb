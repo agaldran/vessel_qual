{
 "cells": [
  {
   "cell_type": "code",
   "execution_count": 56,
   "metadata": {},
   "outputs": [
    {
     "name": "stdout",
     "output_type": "stream",
     "text": [
      "The autoreload extension is already loaded. To reload it, use:\n",
      "  %reload_ext autoreload\n"
     ]
    }
   ],
   "source": [
    "%load_ext autoreload\n",
    "%autoreload 2\n",
    "\n",
    "import os\n",
    "import os.path as osp\n",
    "from PIL import Image\n",
    "import pandas as pd\n",
    "from torch.utils.data.dataset import Dataset\n",
    "import numpy as np\n",
    "from sklearn.metrics import f1_score\n",
    "import random\n",
    "import matplotlib.pyplot as plt\n",
    "\n",
    "from predict_qual import get_score\n",
    "from skimage import img_as_float"
   ]
  },
  {
   "cell_type": "code",
   "execution_count": 68,
   "metadata": {},
   "outputs": [],
   "source": [
    "def imshow_pair(im, gdt):\n",
    "    f, ax = plt.subplots(1, 2, figsize=(12,6))\n",
    "    np_im = np.asarray(im)\n",
    "    np_gdt = np.asarray(gdt)\n",
    "    if len(np_im.shape) == 2:\n",
    "        ax[0].imshow(np_im, cmap='gray'),  ax[0].axis('off')\n",
    "    else:\n",
    "        ax[0].imshow(np_im),  ax[0].axis('off')\n",
    "    if len(np_gdt.shape) == 2:\n",
    "        ax[1].imshow(np.asarray(gdt), cmap = 'gray'), ax[1].axis('off')\n",
    "    else:\n",
    "        ax[1].imshow(np.asarray(gdt)), ax[1].axis('off')\n",
    "    plt.tight_layout()"
   ]
  },
  {
   "cell_type": "code",
   "execution_count": 57,
   "metadata": {},
   "outputs": [],
   "source": [
    "im_path='01_dr.tif'\n",
    "mask_path='01_dr_mask.tif'\n",
    "threshold=0.5"
   ]
  },
  {
   "cell_type": "code",
   "execution_count": 60,
   "metadata": {},
   "outputs": [],
   "source": [
    "im = img_as_float(np.array(Image.open(im_path).convert('L')))  # this can be a grayscale or binary prediction\n",
    "im = im > threshold # this is binary for sure\n",
    "mask = Image.open(mask_path).convert('L')  # this is a binary 0/255 image\n",
    "mask = np.array(mask).astype(int)"
   ]
  },
  {
   "cell_type": "code",
   "execution_count": 69,
   "metadata": {},
   "outputs": [
    {
     "data": {
      "image/png": "[encoded data removed]",
      "text/plain": [
       "<Figure size 864x432 with 2 Axes>"
      ]
     },
     "metadata": {
      "needs_background": "light"
     },
     "output_type": "display_data"
    }
   ],
   "source": [
    "imshow_pair(im, mask)"
   ]
  },
  {
   "cell_type": "code",
   "execution_count": 70,
   "metadata": {},
   "outputs": [
    {
     "data": {
      "text/plain": [
       "0.5295299291610718"
      ]
     },
     "execution_count": 70,
     "metadata": {},
     "output_type": "execute_result"
    }
   ],
   "source": [
    "get_score(im_path='01_dr.tif', mask_path='01_dr_mask.tif', threshold=0.5)"
   ]
  },
  {
   "cell_type": "code",
   "execution_count": 98,
   "metadata": {},
   "outputs": [],
   "source": [
    "from models.get_reg_model import get_arch\n",
    "from utils.model_saving_loading import load_model\n",
    "import torch\n",
    "from torchvision import transforms as tr\n",
    "\n",
    "def crop_to_fov(img, mask):\n",
    "    mask = np.array(mask).astype(int)\n",
    "    minr, minc, maxr, maxc = regionprops(mask)[0].bbox\n",
    "    im_crop = Image.fromarray(np.array(img)[minr:maxr, minc:maxc])\n",
    "    return im_crop\n",
    "\n",
    "def prepare_single_image(im, mask):\n",
    "    rsz = tr.Resize([512, 512], interpolation=2)\n",
    "    tnsr = tr.ToTensor()\n",
    "    transf = tr.Compose([rsz, tnsr])\n",
    "    \n",
    "    im_crop = crop_to_fov(im, mask)\n",
    "    return transf(im_crop).unsqueeze(0)"
   ]
  },
  {
   "cell_type": "code",
   "execution_count": 103,
   "metadata": {},
   "outputs": [],
   "source": [
    "model = get_arch('resnet18')\n",
    "load_checkpoint = 'experiments/best_mse/'"
   ]
  },
  {
   "cell_type": "code",
   "execution_count": 106,
   "metadata": {},
   "outputs": [],
   "source": [
    "model, _ = load_model(model, load_checkpoint, device='cpu', with_opt=False)\n",
    "model.eval();"
   ]
  },
  {
   "cell_type": "code",
   "execution_count": 107,
   "metadata": {},
   "outputs": [],
   "source": [
    "im1 = Image.open('01_dr.tif').convert('L')\n",
    "mask1 = Image.open('01_dr_mask.tif').convert('L')"
   ]
  },
  {
   "cell_type": "code",
   "execution_count": 108,
   "metadata": {},
   "outputs": [
    {
     "data": {
      "text/plain": [
       "0.9959654808044434"
      ]
     },
     "execution_count": 108,
     "metadata": {},
     "output_type": "execute_result"
    }
   ],
   "source": [
    "im_prep = prepare_single_image(im1, mask1)\n",
    "torch.sigmoid(model(im_prep)).item()"
   ]
  },
  {
   "cell_type": "code",
   "execution_count": 109,
   "metadata": {},
   "outputs": [],
   "source": [
    "im2 = Image.open('12.png').convert('L')\n",
    "mask2 = Image.open('12_mask.gif').convert('L')"
   ]
  },
  {
   "cell_type": "code",
   "execution_count": 110,
   "metadata": {},
   "outputs": [
    {
     "data": {
      "text/plain": [
       "0.9915643930435181"
      ]
     },
     "execution_count": 110,
     "metadata": {},
     "output_type": "execute_result"
    }
   ],
   "source": [
    "im_prep = prepare_single_image(im2, mask2)\n",
    "torch.sigmoid(model(im_prep)).item()"
   ]
  },
  {
   "cell_type": "code",
   "execution_count": 127,
   "metadata": {},
   "outputs": [
    {
     "data": {
      "text/plain": [
       "(0.9937378168106079, 0.7318292260169983)"
      ]
     },
     "execution_count": 127,
     "metadata": {},
     "output_type": "execute_result"
    }
   ],
   "source": [
    "im2 = Image.open('perfect.gif').convert('L')\n",
    "im2_bin = np.array(im2)>100\n",
    "mask2 = Image.open('01_mask.gif').convert('L')\n",
    "im_prep = prepare_single_image(im2, mask2)\n",
    "im_prep_bin = prepare_single_image(im2_bin, mask2)\n",
    "torch.sigmoid(model(im_prep)).item(), torch.sigmoid(model(im_prep_bin)).item()"
   ]
  },
  {
   "cell_type": "code",
   "execution_count": 129,
   "metadata": {},
   "outputs": [
    {
     "data": {
      "image/png": "[encoded data removed]",
      "text/plain": [
       "<Figure size 864x432 with 2 Axes>"
      ]
     },
     "metadata": {
      "needs_background": "light"
     },
     "output_type": "display_data"
    }
   ],
   "source": [
    "imshow_pair(im2, im2_bin)"
   ]
  },
  {
   "cell_type": "code",
   "execution_count": 130,
   "metadata": {},
   "outputs": [
    {
     "data": {
      "text/plain": [
       "(1.0, 0.5536044239997864)"
      ]
     },
     "execution_count": 130,
     "metadata": {},
     "output_type": "execute_result"
    }
   ],
   "source": [
    "im2 = Image.open('better.gif').convert('L')\n",
    "im2_bin = np.array(im2)>100\n",
    "mask2 = Image.open('01_mask.gif').convert('L')\n",
    "im_prep = prepare_single_image(im2, mask2)\n",
    "im_prep_bin = prepare_single_image(im2_bin, mask2)\n",
    "torch.sigmoid(model(im_prep)).item(), torch.sigmoid(model(im_prep_bin)).item()"
   ]
  },
  {
   "cell_type": "code",
   "execution_count": 131,
   "metadata": {},
   "outputs": [
    {
     "data": {
      "text/plain": [
       "(1.0, 0.513837456703186)"
      ]
     },
     "execution_count": 131,
     "metadata": {},
     "output_type": "execute_result"
    }
   ],
   "source": [
    "im2 = Image.open('worse.gif').convert('L')\n",
    "im2_bin = np.array(im2)>100\n",
    "mask2 = Image.open('01_mask.gif').convert('L')\n",
    "im_prep = prepare_single_image(im2, mask2)\n",
    "im_prep_bin = prepare_single_image(im2_bin, mask2)\n",
    "torch.sigmoid(model(im_prep)).item(), torch.sigmoid(model(im_prep_bin)).item()"
   ]
  },
  {
   "cell_type": "code",
   "execution_count": null,
   "metadata": {},
   "outputs": [],
   "source": []
  },
  {
   "cell_type": "code",
   "execution_count": 146,
   "metadata": {},
   "outputs": [],
   "source": [
    "csv_train = 'data/DRIVE/train.csv'\n",
    "csv_val ='data/DRIVE/val.csv'\n",
    "bs = 4\n",
    "from utils.get_loaders import get_reg_loaders\n",
    "\n",
    "\n",
    "train_loader, val_loader = get_reg_loaders(csv_path_train=csv_train, csv_path_val=csv_val, batch_size=bs,\n",
    "                                           p_manual=0.5, p_nothing=0.1, max_deg_patches=100,\n",
    "                                           max_patch_size=(64, 64), sim_method='mutual_info')"
   ]
  },
  {
   "cell_type": "code",
   "execution_count": 147,
   "metadata": {},
   "outputs": [],
   "source": [
    "x = next(iter(train_loader))"
   ]
  },
  {
   "cell_type": "code",
   "execution_count": 148,
   "metadata": {},
   "outputs": [
    {
     "data": {
      "text/plain": [
       "tensor([0., 1.])"
      ]
     },
     "execution_count": 148,
     "metadata": {},
     "output_type": "execute_result"
    }
   ],
   "source": [
    "torch.unique(x[0][0][0])"
   ]
  },
  {
   "cell_type": "code",
   "execution_count": null,
   "metadata": {},
   "outputs": [],
   "source": []
  }
 ],
 "metadata": {
  "kernelspec": {
   "display_name": "vessels",
   "language": "python",
   "name": "build_central"
  },
  "language_info": {
   "codemirror_mode": {
    "name": "ipython",
    "version": 3
   },
   "file_extension": ".py",
   "mimetype": "text/x-python",
   "name": "python",
   "nbconvert_exporter": "python",
   "pygments_lexer": "ipython3",
   "version": "3.7.6"
  }
 },
 "nbformat": 4,
 "nbformat_minor": 4
}
